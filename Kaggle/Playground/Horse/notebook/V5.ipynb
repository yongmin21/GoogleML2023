{
 "cells": [
  {
   "cell_type": "markdown",
   "metadata": {},
   "source": [
    "# V5.\n",
    "\n",
    "Custom Pipeline, Ensemble 기법 사용"
   ]
  },
  {
   "cell_type": "code",
   "execution_count": 1,
   "metadata": {},
   "outputs": [],
   "source": [
    "# env setting\n",
    "import sys\n",
    "sys.path.append(\"../src\")\n",
    "sys.path.append(\"../models\")\n",
    "\n",
    "import numpy as np\n",
    "import pandas as pd\n",
    "\n",
    "from sklearn.metrics import f1_score\n",
    "from sklearn.model_selection import train_test_split, cross_val_score, StratifiedKFold\n",
    "# from sklearn.pipeline import Pipeline\n",
    "from sklearn.impute import KNNImputer\n",
    "\n",
    "# model import\n",
    "from sklearn.ensemble import GradientBoostingClassifier, HistGradientBoostingClassifier, RandomForestClassifier\n",
    "from sklearn.ensemble import VotingClassifier\n",
    "from xgboost import XGBClassifier\n",
    "from lightgbm import LGBMClassifier\n",
    "\n",
    "#custom function\n",
    "import config\n",
    "import helpers\n",
    "from custom_pipeline import Custom_Pipeline"
   ]
  },
  {
   "cell_type": "markdown",
   "metadata": {},
   "source": [
    "Read Data"
   ]
  },
  {
   "cell_type": "code",
   "execution_count": 2,
   "metadata": {},
   "outputs": [
    {
     "name": "stdout",
     "output_type": "stream",
     "text": [
      "(1534, 29)\n",
      "(824, 28)\n"
     ]
    }
   ],
   "source": [
    "(train, test, origin, submission) = helpers.data_loader()\n",
    "train.head(5)\n",
    "\n",
    "train = train.replace('None', np.NaN)\n",
    "test = test.replace('None', np.NaN)\n",
    "origin = origin.replace('None', np.NaN)\n",
    "\n",
    "categorical_features = config.CATEGORICAL_FEATURES\n",
    "categorical_features.append('number_of_treatements')\n",
    "# categorical_features.remove('lesion_2')\n",
    "# categorical_features.remove('lesion_3')\n",
    "target = 'outcome'\n",
    "\n",
    "numerical_features = list(set(train.columns) - set(categorical_features) - set(config.USELESS_FEATURES) - set([target]))\n",
    "\n",
    "train = pd.concat(\n",
    "    [train, origin], ignore_index=True\n",
    ")\n",
    "train = train.drop_duplicates()\n",
    "\n",
    "print(train.shape)\n",
    "print(test.shape)"
   ]
  },
  {
   "cell_type": "markdown",
   "metadata": {},
   "source": [
    "Data Preprocessing"
   ]
  },
  {
   "cell_type": "code",
   "execution_count": 3,
   "metadata": {},
   "outputs": [
    {
     "name": "stdout",
     "output_type": "stream",
     "text": [
      "(1534, 27)\n"
     ]
    }
   ],
   "source": [
    "X_tr = train.copy()\n",
    "X_test = test.copy()\n",
    "\n",
    "train['outcome'] = train['outcome'].map({\n",
    "    'died' : 0,\n",
    "    'euthanized' : 1,\n",
    "    'lived' : 2\n",
    "})\n",
    "\n",
    "y = train.outcome\n",
    "USECOLS = categorical_features\n",
    "DROPCOLS = ['lesion_2', 'lesion_3', 'id']\n",
    "ALPHA = 0.5\n",
    "\n",
    "pipe = Custom_Pipeline(X_tr, y)\n",
    "X_tr = pipe.fit_transform(USECOLS, ALPHA, DROPCOLS)\n",
    "X_test = pipe.transform(X_test, USECOLS, ALPHA, DROPCOLS)\n",
    "print(X_tr.shape)"
   ]
  },
  {
   "cell_type": "markdown",
   "metadata": {},
   "source": [
    "With Optimizing"
   ]
  },
  {
   "cell_type": "code",
   "execution_count": 5,
   "metadata": {},
   "outputs": [
    {
     "name": "stdout",
     "output_type": "stream",
     "text": [
      "[0.78985507 0.75362319 0.80072464 0.7826087  0.76449275]\n",
      "0.7782608695652173\n",
      "0.7922077922077922\n"
     ]
    }
   ],
   "source": [
    "estimators = [\n",
    "    ('xgb', XGBClassifier(**config.XGB_PARAMS)),\n",
    "    ('lgbm' , LGBMClassifier(**config.LGBM_PARAMS)),\n",
    "    ('hgb', HistGradientBoostingClassifier(**config.HGB_PARAMS))\n",
    "]\n",
    "\n",
    "#create our voting classifier, inputting our models\n",
    "ensemble = VotingClassifier(estimators, voting='soft', weights = [1.15176, 0.37643, 1.20592])\n",
    "\n",
    "x_train, x_val, y_train, y_val = train_test_split(X_tr, y, test_size=0.1, stratify=y, random_state=42)\n",
    "folds = StratifiedKFold(n_splits=5, random_state=42, shuffle=True)\n",
    "\n",
    "scores = cross_val_score(ensemble, x_train, y_train,\n",
    "                         cv=folds,\n",
    "                         scoring='f1_micro',\n",
    "                         n_jobs=-1)\n",
    "\n",
    "print(scores)\n",
    "print(np.mean(scores))\n",
    "\n",
    "#fit model to training data\n",
    "ensemble.fit(x_train, y_train)\n",
    "prediction = ensemble.predict(x_val)\n",
    "#test our model on the test data\n",
    "print(f1_score(y_val, prediction, average='micro'))"
   ]
  },
  {
   "cell_type": "code",
   "execution_count": 10,
   "metadata": {},
   "outputs": [
    {
     "data": {
      "text/html": [
       "<div>\n",
       "<style scoped>\n",
       "    .dataframe tbody tr th:only-of-type {\n",
       "        vertical-align: middle;\n",
       "    }\n",
       "\n",
       "    .dataframe tbody tr th {\n",
       "        vertical-align: top;\n",
       "    }\n",
       "\n",
       "    .dataframe thead th {\n",
       "        text-align: right;\n",
       "    }\n",
       "</style>\n",
       "<table border=\"1\" class=\"dataframe\">\n",
       "  <thead>\n",
       "    <tr style=\"text-align: right;\">\n",
       "      <th></th>\n",
       "      <th>id</th>\n",
       "      <th>outcome</th>\n",
       "    </tr>\n",
       "  </thead>\n",
       "  <tbody>\n",
       "    <tr>\n",
       "      <th>0</th>\n",
       "      <td>1235</td>\n",
       "      <td>lived</td>\n",
       "    </tr>\n",
       "    <tr>\n",
       "      <th>1</th>\n",
       "      <td>1236</td>\n",
       "      <td>died</td>\n",
       "    </tr>\n",
       "    <tr>\n",
       "      <th>2</th>\n",
       "      <td>1237</td>\n",
       "      <td>lived</td>\n",
       "    </tr>\n",
       "    <tr>\n",
       "      <th>3</th>\n",
       "      <td>1238</td>\n",
       "      <td>euthanized</td>\n",
       "    </tr>\n",
       "    <tr>\n",
       "      <th>4</th>\n",
       "      <td>1239</td>\n",
       "      <td>lived</td>\n",
       "    </tr>\n",
       "    <tr>\n",
       "      <th>...</th>\n",
       "      <td>...</td>\n",
       "      <td>...</td>\n",
       "    </tr>\n",
       "    <tr>\n",
       "      <th>819</th>\n",
       "      <td>2054</td>\n",
       "      <td>died</td>\n",
       "    </tr>\n",
       "    <tr>\n",
       "      <th>820</th>\n",
       "      <td>2055</td>\n",
       "      <td>euthanized</td>\n",
       "    </tr>\n",
       "    <tr>\n",
       "      <th>821</th>\n",
       "      <td>2056</td>\n",
       "      <td>died</td>\n",
       "    </tr>\n",
       "    <tr>\n",
       "      <th>822</th>\n",
       "      <td>2057</td>\n",
       "      <td>lived</td>\n",
       "    </tr>\n",
       "    <tr>\n",
       "      <th>823</th>\n",
       "      <td>2058</td>\n",
       "      <td>lived</td>\n",
       "    </tr>\n",
       "  </tbody>\n",
       "</table>\n",
       "<p>824 rows × 2 columns</p>\n",
       "</div>"
      ],
      "text/plain": [
       "       id     outcome\n",
       "0    1235       lived\n",
       "1    1236        died\n",
       "2    1237       lived\n",
       "3    1238  euthanized\n",
       "4    1239       lived\n",
       "..    ...         ...\n",
       "819  2054        died\n",
       "820  2055  euthanized\n",
       "821  2056        died\n",
       "822  2057       lived\n",
       "823  2058       lived\n",
       "\n",
       "[824 rows x 2 columns]"
      ]
     },
     "execution_count": 10,
     "metadata": {},
     "output_type": "execute_result"
    }
   ],
   "source": [
    "ensemble.fit(X_tr, y)\n",
    "prediction = ensemble.predict(X_test)\n",
    "\n",
    "sample_submission = pd.read_csv(config.SUBMISSION_FILE)\n",
    "decode_map = {\n",
    "    0 : 'died',\n",
    "    1 : 'euthanized',\n",
    "    2 : 'lived'\n",
    "}\n",
    "\n",
    "sample_submission['outcome'] = prediction\n",
    "sample_submission['outcome'] = sample_submission['outcome'].map(decode_map)\n",
    "sample_submission.to_csv('../output/sample_submission_V4(ensemble_sklearn 2nd).csv',index=False)\n",
    "sample_submission"
   ]
  },
  {
   "cell_type": "code",
   "execution_count": 6,
   "metadata": {},
   "outputs": [],
   "source": [
    "# import pickle\n",
    "# from joblib import dump, load\n",
    "# ensemble.fit(X_tr, y)\n",
    "\n",
    "# dump(ensemble, '../models/ensembleV5.pkl') \n",
    "# X_tr.to_csv(\"../input/X_train.csv\", index=False)\n",
    "# y.to_csv(\"../input/target.csv\", index=False)"
   ]
  },
  {
   "cell_type": "markdown",
   "metadata": {},
   "source": [
    "### stacking"
   ]
  },
  {
   "cell_type": "code",
   "execution_count": 12,
   "metadata": {},
   "outputs": [
    {
     "name": "stdout",
     "output_type": "stream",
     "text": [
      "[0.77898551 0.76449275 0.79710145 0.8115942  0.78623188]\n",
      "0.7876811594202899\n",
      "0.7987012987012987\n"
     ]
    }
   ],
   "source": [
    "from sklearn.ensemble import StackingClassifier\n",
    "from sklearn.pipeline import make_pipeline\n",
    "from sklearn.linear_model import LogisticRegression\n",
    "from sklearn.preprocessing import StandardScaler\n",
    "from sklearn.svm import LinearSVC\n",
    "\n",
    "estimators = [\n",
    "    ('xgb', XGBClassifier(**config.XGB_PARAMS)),\n",
    "    ('lgbm' , LGBMClassifier(**config.LGBM_PARAMS)),\n",
    "    ('hgb', HistGradientBoostingClassifier(**config.HGB_PARAMS)),\n",
    "    ('svr', make_pipeline(StandardScaler(),\n",
    "                          LinearSVC(dual='auto', random_state=42)))\n",
    "]\n",
    "\n",
    "x_train, x_val, y_train, y_val = train_test_split(X_tr, y, test_size=0.1, stratify=y, random_state=42)\n",
    "folds = StratifiedKFold(n_splits=5, random_state=42, shuffle=True)\n",
    "\n",
    "# meta model - logistic regression - 0.7789 / 0.7922\n",
    "# meta model - random forest - 0.7601 / 0.7467\n",
    "staking = StackingClassifier(\n",
    "    estimators = estimators,\n",
    "    n_jobs=-1\n",
    ")\n",
    "\n",
    "scores = cross_val_score(staking, x_train, y_train,\n",
    "                         cv=folds,\n",
    "                         scoring='f1_micro',\n",
    "                         n_jobs=-1)\n",
    "\n",
    "print(scores)\n",
    "print(np.mean(scores))\n",
    "\n",
    "#fit model to training data\n",
    "staking.fit(x_train, y_train)\n",
    "prediction = staking.predict(x_val)\n",
    "\n",
    "#test our model on the test data\n",
    "print(f1_score(y_val, prediction, average='micro'))"
   ]
  },
  {
   "cell_type": "code",
   "execution_count": 13,
   "metadata": {},
   "outputs": [
    {
     "data": {
      "text/html": [
       "<div>\n",
       "<style scoped>\n",
       "    .dataframe tbody tr th:only-of-type {\n",
       "        vertical-align: middle;\n",
       "    }\n",
       "\n",
       "    .dataframe tbody tr th {\n",
       "        vertical-align: top;\n",
       "    }\n",
       "\n",
       "    .dataframe thead th {\n",
       "        text-align: right;\n",
       "    }\n",
       "</style>\n",
       "<table border=\"1\" class=\"dataframe\">\n",
       "  <thead>\n",
       "    <tr style=\"text-align: right;\">\n",
       "      <th></th>\n",
       "      <th>id</th>\n",
       "      <th>outcome</th>\n",
       "    </tr>\n",
       "  </thead>\n",
       "  <tbody>\n",
       "    <tr>\n",
       "      <th>0</th>\n",
       "      <td>1235</td>\n",
       "      <td>lived</td>\n",
       "    </tr>\n",
       "    <tr>\n",
       "      <th>1</th>\n",
       "      <td>1236</td>\n",
       "      <td>died</td>\n",
       "    </tr>\n",
       "    <tr>\n",
       "      <th>2</th>\n",
       "      <td>1237</td>\n",
       "      <td>lived</td>\n",
       "    </tr>\n",
       "    <tr>\n",
       "      <th>3</th>\n",
       "      <td>1238</td>\n",
       "      <td>euthanized</td>\n",
       "    </tr>\n",
       "    <tr>\n",
       "      <th>4</th>\n",
       "      <td>1239</td>\n",
       "      <td>lived</td>\n",
       "    </tr>\n",
       "    <tr>\n",
       "      <th>...</th>\n",
       "      <td>...</td>\n",
       "      <td>...</td>\n",
       "    </tr>\n",
       "    <tr>\n",
       "      <th>819</th>\n",
       "      <td>2054</td>\n",
       "      <td>died</td>\n",
       "    </tr>\n",
       "    <tr>\n",
       "      <th>820</th>\n",
       "      <td>2055</td>\n",
       "      <td>euthanized</td>\n",
       "    </tr>\n",
       "    <tr>\n",
       "      <th>821</th>\n",
       "      <td>2056</td>\n",
       "      <td>died</td>\n",
       "    </tr>\n",
       "    <tr>\n",
       "      <th>822</th>\n",
       "      <td>2057</td>\n",
       "      <td>lived</td>\n",
       "    </tr>\n",
       "    <tr>\n",
       "      <th>823</th>\n",
       "      <td>2058</td>\n",
       "      <td>lived</td>\n",
       "    </tr>\n",
       "  </tbody>\n",
       "</table>\n",
       "<p>824 rows × 2 columns</p>\n",
       "</div>"
      ],
      "text/plain": [
       "       id     outcome\n",
       "0    1235       lived\n",
       "1    1236        died\n",
       "2    1237       lived\n",
       "3    1238  euthanized\n",
       "4    1239       lived\n",
       "..    ...         ...\n",
       "819  2054        died\n",
       "820  2055  euthanized\n",
       "821  2056        died\n",
       "822  2057       lived\n",
       "823  2058       lived\n",
       "\n",
       "[824 rows x 2 columns]"
      ]
     },
     "execution_count": 13,
     "metadata": {},
     "output_type": "execute_result"
    }
   ],
   "source": [
    "staking.fit(X_tr, y)\n",
    "prediction = staking.predict(X_test)\n",
    "\n",
    "sample_submission = pd.read_csv(config.SUBMISSION_FILE)\n",
    "decode_map = {\n",
    "    0 : 'died',\n",
    "    1 : 'euthanized',\n",
    "    2 : 'lived'\n",
    "}\n",
    "\n",
    "sample_submission['outcome'] = prediction\n",
    "sample_submission['outcome'] = sample_submission['outcome'].map(decode_map)\n",
    "sample_submission.to_csv('../output/sample_submission_V5(stacking).csv',index=False)\n",
    "sample_submission"
   ]
  },
  {
   "cell_type": "markdown",
   "metadata": {},
   "source": [
    "### Train only Enthanized"
   ]
  },
  {
   "cell_type": "code",
   "execution_count": 3,
   "metadata": {},
   "outputs": [
    {
     "name": "stdout",
     "output_type": "stream",
     "text": [
      "(1534, 27)\n"
     ]
    }
   ],
   "source": [
    "enth_tr = train.copy()\n",
    "enth_test = test.copy()\n",
    "\n",
    "train['outcome'] = train['outcome'].map({\n",
    "    'died' : 1,\n",
    "    'euthanized' : 0,\n",
    "    'lived' : 0\n",
    "})\n",
    "\n",
    "y = train.outcome\n",
    "USECOLS = categorical_features\n",
    "DROPCOLS = ['lesion_2', 'lesion_3', 'id']\n",
    "ALPHA = 0.5\n",
    "\n",
    "pipe = Custom_Pipeline(enth_tr, y)\n",
    "enth_tr = pipe.fit_transform(USECOLS, ALPHA, DROPCOLS)\n",
    "enth_test = pipe.transform(enth_test, USECOLS, ALPHA, DROPCOLS)\n",
    "print(enth_tr.shape)"
   ]
  },
  {
   "cell_type": "code",
   "execution_count": 4,
   "metadata": {},
   "outputs": [
    {
     "name": "stdout",
     "output_type": "stream",
     "text": [
      "[0.71578947 0.61363636 0.63736264 0.60606061 0.49382716]\n",
      "0.6133352482475289\n",
      "0.7924528301886793\n"
     ]
    }
   ],
   "source": [
    "# 안락사\n",
    "model = XGBClassifier()\n",
    "\n",
    "x_train, x_val, y_train, y_val = train_test_split(enth_tr, y, test_size=0.1, stratify=y, random_state=42)\n",
    "folds = StratifiedKFold(n_splits=5, random_state=42, shuffle=True)\n",
    "\n",
    "scores = cross_val_score(model, x_train, y_train,\n",
    "                         cv=folds,\n",
    "                         scoring='f1',\n",
    "                         n_jobs=-1)\n",
    "\n",
    "print(scores)\n",
    "print(np.mean(scores))\n",
    "\n",
    "#fit model to training data\n",
    "model.fit(x_train, y_train)\n",
    "prediction = model.predict(x_val)\n",
    "#test our model on the test data\n",
    "print(f1_score(y_val, prediction))"
   ]
  },
  {
   "cell_type": "code",
   "execution_count": 5,
   "metadata": {},
   "outputs": [
    {
     "data": {
      "text/plain": [
       "0.9130434782608695"
      ]
     },
     "execution_count": 5,
     "metadata": {},
     "output_type": "execute_result"
    }
   ],
   "source": [
    "from sklearn.metrics import precision_score\n",
    "\n",
    "precision_score(y_val, prediction)"
   ]
  },
  {
   "cell_type": "code",
   "execution_count": 4,
   "metadata": {},
   "outputs": [
    {
     "name": "stdout",
     "output_type": "stream",
     "text": [
      "[0.72941176 0.73033708 0.69090909 0.72289157 0.7431694 ]\n",
      "0.7233437798877645\n",
      "0.7692307692307693\n"
     ]
    }
   ],
   "source": [
    "# 죽음\n",
    "model = XGBClassifier()\n",
    "\n",
    "x_train, x_val, y_train, y_val = train_test_split(enth_tr, y, test_size=0.1, stratify=y, random_state=42)\n",
    "folds = StratifiedKFold(n_splits=5, random_state=42, shuffle=True)\n",
    "\n",
    "scores = cross_val_score(model, x_train, y_train,\n",
    "                         cv=folds,\n",
    "                         scoring='f1',\n",
    "                         n_jobs=-1)\n",
    "\n",
    "print(scores)\n",
    "print(np.mean(scores))\n",
    "\n",
    "#fit model to training data\n",
    "model.fit(x_train, y_train)\n",
    "prediction = model.predict(x_val)   \n",
    "#test our model on the test data\n",
    "print(f1_score(y_val, prediction))"
   ]
  },
  {
   "cell_type": "code",
   "execution_count": 5,
   "metadata": {},
   "outputs": [
    {
     "data": {
      "text/plain": [
       "0.7272727272727273"
      ]
     },
     "execution_count": 5,
     "metadata": {},
     "output_type": "execute_result"
    }
   ],
   "source": [
    "from sklearn.metrics import precision_score\n",
    "\n",
    "precision_score(y_val, prediction)"
   ]
  },
  {
   "cell_type": "code",
   "execution_count": 4,
   "metadata": {},
   "outputs": [
    {
     "name": "stdout",
     "output_type": "stream",
     "text": [
      "[0.81712062 0.81538462 0.82527881 0.80740741 0.7896679 ]\n",
      "0.810971870489601\n",
      "0.8211920529801323\n"
     ]
    }
   ],
   "source": [
    "# 생존\n",
    "model = XGBClassifier()\n",
    "\n",
    "x_train, x_val, y_train, y_val = train_test_split(enth_tr, y, test_size=0.1, stratify=y, random_state=42)\n",
    "folds = StratifiedKFold(n_splits=5, random_state=42, shuffle=True)\n",
    "\n",
    "scores = cross_val_score(model, x_train, y_train,\n",
    "                         cv=folds,\n",
    "                         scoring='f1',\n",
    "                         n_jobs=-1)\n",
    "\n",
    "print(scores)\n",
    "print(np.mean(scores))\n",
    "\n",
    "#fit model to training data\n",
    "model.fit(x_train, y_train)\n",
    "prediction = model.predict(x_val)   \n",
    "#test our model on the test data\n",
    "print(f1_score(y_val, prediction))"
   ]
  },
  {
   "cell_type": "code",
   "execution_count": 6,
   "metadata": {},
   "outputs": [
    {
     "data": {
      "text/plain": [
       "0.8157894736842105"
      ]
     },
     "execution_count": 6,
     "metadata": {},
     "output_type": "execute_result"
    }
   ],
   "source": [
    "from sklearn.metrics import precision_score\n",
    "\n",
    "precision_score(y_val, prediction)"
   ]
  },
  {
   "cell_type": "markdown",
   "metadata": {},
   "source": [
    "F1 score : enth - 0.79, died - 0.76, lived - 0.82  \n",
    "Precision score : enth - 0.91, died - 0.72, lived - 0.815"
   ]
  },
  {
   "cell_type": "code",
   "execution_count": 8,
   "metadata": {},
   "outputs": [
    {
     "name": "stdout",
     "output_type": "stream",
     "text": [
      "(154,)\n",
      "55\n"
     ]
    }
   ],
   "source": []
  },
  {
   "cell_type": "code",
   "execution_count": null,
   "metadata": {},
   "outputs": [],
   "source": []
  }
 ],
 "metadata": {
  "kernelspec": {
   "display_name": "horse",
   "language": "python",
   "name": "python3"
  },
  "language_info": {
   "codemirror_mode": {
    "name": "ipython",
    "version": 3
   },
   "file_extension": ".py",
   "mimetype": "text/x-python",
   "name": "python",
   "nbconvert_exporter": "python",
   "pygments_lexer": "ipython3",
   "version": "3.10.12"
  },
  "orig_nbformat": 4
 },
 "nbformat": 4,
 "nbformat_minor": 2
}
